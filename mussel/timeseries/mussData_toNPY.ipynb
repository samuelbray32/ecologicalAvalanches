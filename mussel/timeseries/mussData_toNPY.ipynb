{
 "cells": [
  {
   "cell_type": "code",
   "execution_count": 3,
   "metadata": {},
   "outputs": [],
   "source": [
    "import numpy as np\n",
    "import matplotlib.pyplot as plt\n",
    "import csv\n",
    "\n",
    "\n",
    "def readCSVData(filename, isExcel=False):\n",
    "    outputdata = []\n",
    "    with open(filename,'r') as csvfile:\n",
    "        csvreader = csv.reader(csvfile)\n",
    "        i=0\n",
    "        for row in csvreader:\n",
    "#             if i ==0:\n",
    "#                 i=i+1\n",
    "#                 continue;\n",
    "#             i=i+1\n",
    "#             print (i)\n",
    "#             i=i+1\n",
    "#             for q in row:\n",
    "#                 if q=='':\n",
    "#                     q='0'\n",
    "#             print(((row)))\n",
    "            tem=[]\n",
    "#             for j in range(len(row)-1,0,-1):\n",
    "#                     if row[j] != \"\":\n",
    "#                         outputdata.append(row[:j+1])\n",
    "#                         break\n",
    "            for j in range (len(row)):\n",
    "                if row[j] != '':\n",
    "                    tem.append(float(row[j]))\n",
    "                else:\n",
    "                    tem.append(0)\n",
    "            #print(len(tem))\n",
    "            outputdata.append(tem)\n",
    "    return np.array(outputdata)\n",
    "\n",
    "def pullDataToPlate(file):\n",
    "    x=readCSVData(file)\n",
    "    y=np.zeros((8,12,x.shape[0]))\n",
    "    for i in range(96):\n",
    "        j=int(np.trunc(i/12.0))\n",
    "        k=int(i-(12*j))\n",
    "        y[j,k,:]=x[:,i]\n",
    "    return y"
   ]
  },
  {
   "cell_type": "code",
   "execution_count": 15,
   "metadata": {},
   "outputs": [
    {
     "data": {
      "text/plain": [
       "(207, 3)"
      ]
     },
     "execution_count": 15,
     "metadata": {},
     "output_type": "execute_result"
    }
   ],
   "source": [
    "algea=readCSVData('algea.csv')\n",
    "mussel=readCSVData('mussels.csv')\n",
    "barnacles=readCSVData('barnacles.csv')\n",
    "endit=207\n",
    "x=np.zeros((endit,3))\n",
    "x[:endit,0]=barnacles[:endit,0]\n",
    "x[:endit,1]=algea[:endit,0]\n",
    "x[:endit,2]=mussel[:endit,0]\n",
    "\n",
    "t=readCSVData('time_days.csv')\n",
    "t=t[:endit]\n",
    "x.shape\n"
   ]
  },
  {
   "cell_type": "code",
   "execution_count": 25,
   "metadata": {},
   "outputs": [
    {
     "data": {
      "text/plain": [
       "(-10, 100)"
      ]
     },
     "execution_count": 25,
     "metadata": {},
     "output_type": "execute_result"
    },
    {
     "data": {
      "image/png": "[encoded data removed]",
      "text/plain": [
       "<matplotlib.figure.Figure at 0x7f3b975b3950>"
      ]
     },
     "metadata": {},
     "output_type": "display_data"
    }
   ],
   "source": [
    "# plt.plot(x[:,0])\n",
    "# plt.plot(x[:,1])\n",
    "plt.plot(t/365,x[:,2])\n",
    "\n",
    "plt.ylim(-10,100)\n",
    "# plt.xlim(200,350)"
   ]
  },
  {
   "cell_type": "code",
   "execution_count": 23,
   "metadata": {},
   "outputs": [],
   "source": [
    "np.save('time.npy',t)\n",
    "np.save('species.npy',x)"
   ]
  },
  {
   "cell_type": "code",
   "execution_count": 26,
   "metadata": {},
   "outputs": [
    {
     "data": {
      "text/plain": [
       "(207, 3)"
      ]
     },
     "execution_count": 26,
     "metadata": {},
     "output_type": "execute_result"
    }
   ],
   "source": [
    "x.shape\n"
   ]
  },
  {
   "cell_type": "code",
   "execution_count": null,
   "metadata": {},
   "outputs": [],
   "source": []
  }
 ],
 "metadata": {
  "kernelspec": {
   "display_name": "Python 2",
   "language": "python",
   "name": "python2"
  },
  "language_info": {
   "codemirror_mode": {
    "name": "ipython",
    "version": 2
   },
   "file_extension": ".py",
   "mimetype": "text/x-python",
   "name": "python",
   "nbconvert_exporter": "python",
   "pygments_lexer": "ipython2",
   "version": "2.7.14"
  }
 },
 "nbformat": 4,
 "nbformat_minor": 2
}
